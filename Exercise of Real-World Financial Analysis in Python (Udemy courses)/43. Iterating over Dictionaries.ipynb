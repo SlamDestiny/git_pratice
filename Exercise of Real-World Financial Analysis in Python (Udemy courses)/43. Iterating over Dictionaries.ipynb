{
 "cells": [
  {
   "cell_type": "code",
   "execution_count": 8,
   "metadata": {},
   "outputs": [
    {
     "name": "stdout",
     "output_type": "stream",
     "text": [
      "74\n"
     ]
    }
   ],
   "source": [
    "prices = {\"box_of_spaghetti\" :4, \"lasagna\" : 5, \"hamburger\" : 2 }\n",
    "\n",
    "quantity = {\"box_of_spaghetti\" :6, \"lasagna\" :10, \"hamburger\" : 0}\n",
    "\n",
    "money_spent = 0\n",
    "\n",
    "for i in quantity:\n",
    "\tmoney_spent= money_spent + (prices[i]*quantity[i])\n",
    "\n",
    "print (money_spent)\n"
   ]
  },
  {
   "cell_type": "code",
   "execution_count": null,
   "metadata": {},
   "outputs": [],
   "source": []
  },
  {
   "cell_type": "code",
   "execution_count": 12,
   "metadata": {},
   "outputs": [
    {
     "name": "stdout",
     "output_type": "stream",
     "text": [
      "74\n"
     ]
    }
   ],
   "source": [
    "prices = {\"box_of_spaghetti\": 4, \"lasagna\": 5, \"hamburger\" :2}\n",
    "\n",
    "quantity = {\"box_of_spaghetti\":6, \"lasagna\": 10, \"hamburger\": 0}\n",
    "\n",
    "money_spent= 0 \n",
    "for i in prices:\n",
    "    money_spent = money_spent + (prices[i]*quantity[i])\n",
    "\n",
    "print (money_spent)"
   ]
  },
  {
   "cell_type": "code",
   "execution_count": null,
   "metadata": {},
   "outputs": [],
   "source": []
  },
  {
   "cell_type": "code",
   "execution_count": 23,
   "metadata": {},
   "outputs": [],
   "source": [
    "prices = {\"box_of_spaghetti\": 4, \"lasagna\": 5, \"hamburger\" :2}\n",
    "\n",
    "quantity = {\"box_of_spaghetti\":6, \"lasagna\": 10, \"hamburger\": 0}\n",
    "\n",
    "money_spent= 0\n"
   ]
  },
  {
   "cell_type": "code",
   "execution_count": 20,
   "metadata": {},
   "outputs": [
    {
     "name": "stdout",
     "output_type": "stream",
     "text": [
      "50\n"
     ]
    }
   ],
   "source": [
    "for i in prices:\n",
    "    if prices[i]>=5:\n",
    "        money_spent+=(prices[i]*quantity[i])\n",
    "    else:\n",
    "        money_spent=money_spent\n",
    "\n",
    "print (money_spent)"
   ]
  },
  {
   "cell_type": "code",
   "execution_count": 24,
   "metadata": {},
   "outputs": [
    {
     "name": "stdout",
     "output_type": "stream",
     "text": [
      "24\n"
     ]
    }
   ],
   "source": [
    "for i in prices:\n",
    "    if prices[i]<5:\n",
    "        money_spent+=(prices[i]*quantity[i])\n",
    "    else:\n",
    "        money_spent=money_spent\n",
    "        \n",
    "print (money_spent)"
   ]
  },
  {
   "cell_type": "code",
   "execution_count": null,
   "metadata": {},
   "outputs": [],
   "source": []
  }
 ],
 "metadata": {
  "kernelspec": {
   "display_name": "Python 3",
   "language": "python",
   "name": "python3"
  },
  "language_info": {
   "codemirror_mode": {
    "name": "ipython",
    "version": 3
   },
   "file_extension": ".py",
   "mimetype": "text/x-python",
   "name": "python",
   "nbconvert_exporter": "python",
   "pygments_lexer": "ipython3",
   "version": "3.7.6"
  }
 },
 "nbformat": 4,
 "nbformat_minor": 4
}
