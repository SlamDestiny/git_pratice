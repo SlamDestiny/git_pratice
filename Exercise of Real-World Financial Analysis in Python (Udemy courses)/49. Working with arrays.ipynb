{
 "cells": [
  {
   "cell_type": "code",
   "execution_count": 1,
   "metadata": {},
   "outputs": [],
   "source": [
    "#Arrays are fundamental data structures in any programming language.\n",
    "#They represent objects, the objects in a array are call array elements.\n",
    "\n",
    "#The different between the list and a array, all the array elements must be the same data type.\n",
    "#E.g. all integers or floats. List is difference; list may contain integer string another string and so on.\n"
   ]
  },
  {
   "cell_type": "code",
   "execution_count": 7,
   "metadata": {},
   "outputs": [],
   "source": [
    "import numpy as np # the Scientific library "
   ]
  },
  {
   "cell_type": "code",
   "execution_count": 11,
   "metadata": {},
   "outputs": [
    {
     "data": {
      "text/plain": [
       "array([[0, 1, 2, 3],\n",
       "       [4, 5, 6, 7]])"
      ]
     },
     "execution_count": 11,
     "metadata": {},
     "output_type": "execute_result"
    }
   ],
   "source": [
    "a = np.array([[0,1,2,3],[4,5,6,7]])\n",
    "a"
   ]
  },
  {
   "cell_type": "code",
   "execution_count": 12,
   "metadata": {},
   "outputs": [],
   "source": [
    "#NumPy n-dimensional array = ndarray\n",
    "#An ndarray is always homogenous. Should be same data type and interpreted in the same way.\n",
    "\n",
    "#I need to organise the array are as the same amount of element and as the same data type.\n",
    "\n",
    "#array is a function for certain method for certain class.\n",
    "#NumPy is not just a class, is something bigger whole package of several modules and each containing classes on their on.\n",
    "\n",
    "#np.array is the way to apply array function, takes a few lists as arguments and return a data structures in it.\n",
    "#array() - returns a data structure in the NumPy array format.\n"
   ]
  },
  {
   "cell_type": "code",
   "execution_count": 14,
   "metadata": {},
   "outputs": [
    {
     "data": {
      "text/plain": [
       "(2, 4)"
      ]
     },
     "execution_count": 14,
     "metadata": {},
     "output_type": "execute_result"
    }
   ],
   "source": [
    "a.shape"
   ]
  },
  {
   "cell_type": "code",
   "execution_count": 15,
   "metadata": {},
   "outputs": [],
   "source": [
    "# a.shape # to obtain the shape. The array has 2 rows and 4 colum"
   ]
  },
  {
   "cell_type": "code",
   "execution_count": 16,
   "metadata": {},
   "outputs": [],
   "source": [
    "#How to access one of the values in an array.\n",
    "#type the number of row and colum inside the braket e.g. a[1,3]\n",
    "#count starts at 0. 1st row (actully 2nd row), and 3rd in the colum (actully 4th )\n",
    " "
   ]
  },
  {
   "cell_type": "code",
   "execution_count": 18,
   "metadata": {},
   "outputs": [
    {
     "data": {
      "text/plain": [
       "7"
      ]
     },
     "execution_count": 18,
     "metadata": {},
     "output_type": "execute_result"
    }
   ],
   "source": [
    "a[1,3]"
   ]
  },
  {
   "cell_type": "code",
   "execution_count": 19,
   "metadata": {},
   "outputs": [],
   "source": [
    "#To change value in array, designate the value = to the value you want to change. \n",
    "#a[1,2]=8\n"
   ]
  },
  {
   "cell_type": "code",
   "execution_count": 20,
   "metadata": {},
   "outputs": [
    {
     "data": {
      "text/plain": [
       "array([[0, 1, 2, 3],\n",
       "       [4, 5, 8, 7]])"
      ]
     },
     "execution_count": 20,
     "metadata": {},
     "output_type": "execute_result"
    }
   ],
   "source": [
    "a[1,2]=8\n",
    "a"
   ]
  },
  {
   "cell_type": "code",
   "execution_count": 21,
   "metadata": {},
   "outputs": [],
   "source": [
    "#a single value in the [] e.g. a[0]. It will extract the zero row."
   ]
  },
  {
   "cell_type": "code",
   "execution_count": 22,
   "metadata": {},
   "outputs": [
    {
     "data": {
      "text/plain": [
       "array([0, 1, 2, 3])"
      ]
     },
     "execution_count": 22,
     "metadata": {},
     "output_type": "execute_result"
    }
   ],
   "source": [
    "a[0]"
   ]
  },
  {
   "cell_type": "code",
   "execution_count": 23,
   "metadata": {},
   "outputs": [
    {
     "data": {
      "text/plain": [
       "array([4, 5, 8, 7])"
      ]
     },
     "execution_count": 23,
     "metadata": {},
     "output_type": "execute_result"
    }
   ],
   "source": [
    "a[1]"
   ]
  },
  {
   "cell_type": "code",
   "execution_count": 24,
   "metadata": {},
   "outputs": [],
   "source": [
    "#Why arrays are important and how can they help us in analysis financal data.\n",
    "#Array is the data structure that will organize values into vectors matrices and other multidimensional object.\n",
    "\n",
    "#A vector is an object that has both magnitude and direction. \n",
    "#Can display on cartesian plane.\n",
    "#Can be written in python as numpy array with single list \n",
    "#b=np.array([3,5])\n"
   ]
  },
  {
   "cell_type": "code",
   "execution_count": 26,
   "metadata": {},
   "outputs": [
    {
     "data": {
      "text/plain": [
       "array([3, 5])"
      ]
     },
     "execution_count": 26,
     "metadata": {},
     "output_type": "execute_result"
    }
   ],
   "source": [
    "b=np.array([3,5])\n",
    "b"
   ]
  },
  {
   "cell_type": "code",
   "execution_count": 29,
   "metadata": {},
   "outputs": [],
   "source": [
    "#{one dimentional array also call a vector\n",
    "#1D array = vector\n",
    "\n",
    "#2D array=matrices\n",
    "#matrices is linear algebra term that finance term that use in almost every calculation.\n",
    "\n",
    "#Mathematic speak matrices is 2 dimensional array to which many powerful maths operations can be apply.\n",
    "#These features let you manipulate data and the NumPy array is the Python tools that allow you do that.}\n"
   ]
  },
  {
   "cell_type": "code",
   "execution_count": null,
   "metadata": {},
   "outputs": [],
   "source": []
  }
 ],
 "metadata": {
  "kernelspec": {
   "display_name": "Python 3",
   "language": "python",
   "name": "python3"
  },
  "language_info": {
   "codemirror_mode": {
    "name": "ipython",
    "version": 3
   },
   "file_extension": ".py",
   "mimetype": "text/x-python",
   "name": "python",
   "nbconvert_exporter": "python",
   "pygments_lexer": "ipython3",
   "version": "3.7.6"
  }
 },
 "nbformat": 4,
 "nbformat_minor": 4
}
